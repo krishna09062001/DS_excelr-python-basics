{
  "cells": [
    {
      "cell_type": "markdown",
      "metadata": {
        "id": "view-in-github",
        "colab_type": "text"
      },
      "source": [
        "<a href=\"https://colab.research.google.com/github/krishna09062001/DS_excelr-python-basics/blob/main/Confidence_Interval_updated.ipynb\" target=\"_parent\"><img src=\"https://colab.research.google.com/assets/colab-badge.svg\" alt=\"Open In Colab\"/></a>"
      ]
    },
    {
      "cell_type": "code",
      "execution_count": null,
      "metadata": {
        "ExecuteTime": {
          "end_time": "2022-12-09T04:40:41.349278Z",
          "start_time": "2022-12-09T04:40:39.672372Z"
        },
        "id": "NJK1upw46_3h"
      },
      "outputs": [],
      "source": [
        "from scipy import stats\n",
        "import pandas as pd\n",
        "import numpy as np\n"
      ]
    },
    {
      "cell_type": "code",
      "execution_count": null,
      "metadata": {
        "ExecuteTime": {
          "end_time": "2022-12-09T04:40:42.851963Z",
          "start_time": "2022-12-09T04:40:42.805337Z"
        },
        "id": "5eG-73z76_3j",
        "outputId": "631633f2-feab-4220-a328-6e57aa77be6d"
      },
      "outputs": [
        {
          "name": "stdout",
          "output_type": "stream",
          "text": [
            "            Date      Date.1    Close      gain\n",
            "0     2010-01-05  2010-01-05  1616.80 -0.005444\n",
            "1     2010-01-06  2010-01-06  1638.50  0.013422\n",
            "2     2010-01-07  2010-01-07  1648.70  0.006225\n",
            "3     2010-01-08  2010-01-08  1639.80 -0.005398\n",
            "4     2010-01-11  2010-01-11  1629.45 -0.006312\n",
            "...          ...         ...      ...       ...\n",
            "1733  2016-12-26  2016-12-26  2723.50 -0.001283\n",
            "1734  2016-12-27  2016-12-27  2701.75 -0.007986\n",
            "1735  2016-12-28  2016-12-28  2702.15  0.000148\n",
            "1736  2016-12-29  2016-12-29  2727.90  0.009529\n",
            "1737  2016-12-30  2016-12-30  2729.80  0.000697\n",
            "\n",
            "[1738 rows x 4 columns]\n"
          ]
        }
      ],
      "source": [
        "glaxo_df=pd.read_csv('glaxo_df.csv')\n",
        "print(glaxo_df)"
      ]
    },
    {
      "cell_type": "code",
      "execution_count": null,
      "metadata": {
        "ExecuteTime": {
          "end_time": "2022-12-09T04:44:06.025013Z",
          "start_time": "2022-12-09T04:44:06.010637Z"
        },
        "id": "pO7XSIZu6_3k",
        "outputId": "5e942b69-9dad-436a-fba3-0fef83b3464e"
      },
      "outputs": [
        {
          "name": "stdout",
          "output_type": "stream",
          "text": [
            "Gain at 95% confidence interval is: [-0.0258  0.0266]\n"
          ]
        }
      ],
      "source": [
        "glaxo_df_ci = stats.norm.interval(0.95,\n",
        "loc = glaxo_df.gain.mean(),\n",
        "scale = glaxo_df.gain.std())\n",
        "print( 'Gain at 95% confidence interval is:', np.round(glaxo_df_ci, 4))"
      ]
    },
    {
      "cell_type": "code",
      "execution_count": null,
      "metadata": {
        "ExecuteTime": {
          "end_time": "2022-12-09T04:41:59.721149Z",
          "start_time": "2022-12-09T04:41:59.702295Z"
        },
        "id": "YxtpjxhP6_3k",
        "outputId": "5336b66d-90ea-41f4-daff-d20d26c89053"
      },
      "outputs": [
        {
          "name": "stdout",
          "output_type": "stream",
          "text": [
            "Gain at 90% confidence interval is: [-0.0216  0.0224]\n"
          ]
        }
      ],
      "source": [
        "glaxo_df_ci = stats.norm.interval(0.90,\n",
        "loc = glaxo_df.gain.mean(),\n",
        "scale = glaxo_df.gain.std())\n",
        "print( 'Gain at 90% confidence interval is:', np.round(glaxo_df_ci, 4))"
      ]
    },
    {
      "cell_type": "code",
      "execution_count": null,
      "metadata": {
        "ExecuteTime": {
          "end_time": "2022-12-09T04:42:06.505053Z",
          "start_time": "2022-12-09T04:42:06.494667Z"
        },
        "id": "cglaAqGZ6_3k",
        "outputId": "abd8b4fe-25aa-4a98-8082-2acfb6e641a1"
      },
      "outputs": [
        {
          "name": "stdout",
          "output_type": "stream",
          "text": [
            "Gain at 99% confidence interval is: [-0.034   0.0348]\n"
          ]
        }
      ],
      "source": [
        "glaxo_df_ci = stats.norm.interval(0.99,\n",
        "loc = glaxo_df.gain.mean(),\n",
        "scale = glaxo_df.gain.std())\n",
        "print( 'Gain at 99% confidence interval is:', np.round(glaxo_df_ci, 4))"
      ]
    },
    {
      "cell_type": "code",
      "execution_count": null,
      "metadata": {
        "ExecuteTime": {
          "end_time": "2022-11-04T07:01:47.884878Z",
          "start_time": "2022-11-04T07:01:47.840001Z"
        },
        "id": "R0kMWtWh6_3k",
        "outputId": "c7ca9326-029d-4e0f-fe27-dc76c6974813"
      },
      "outputs": [
        {
          "name": "stdout",
          "output_type": "stream",
          "text": [
            "Gain at 95% confidence interval is: [-0.0515  0.0521]\n"
          ]
        }
      ],
      "source": [
        "beml_df=pd.read_csv('beml_df.csv')\n",
        "\n",
        "beml_df_ci = stats. norm.interval(0.95,\n",
        "loc=beml_df.gain.mean(),\n",
        "scale=beml_df.gain.std())\n",
        "print( 'Gain at 95% confidence interval is:', np.round(beml_df_ci, 4))"
      ]
    },
    {
      "cell_type": "code",
      "execution_count": null,
      "metadata": {
        "ExecuteTime": {
          "end_time": "2022-12-09T05:07:05.768253Z",
          "start_time": "2022-12-09T05:07:05.742445Z"
        },
        "id": "CtHapUoj6_3l",
        "outputId": "2af2b7e4-dc2b-4133-bf13-8f24430fd76b"
      },
      "outputs": [
        {
          "data": {
            "text/plain": [
              "1.959963984540054"
            ]
          },
          "execution_count": 10,
          "metadata": {},
          "output_type": "execute_result"
        }
      ],
      "source": [
        " stats.norm.ppf(0.975)"
      ]
    },
    {
      "cell_type": "code",
      "execution_count": null,
      "metadata": {
        "ExecuteTime": {
          "end_time": "2022-12-09T05:07:55.013039Z",
          "start_time": "2022-12-09T05:07:54.989901Z"
        },
        "id": "Nk7V16zb6_3l",
        "outputId": "dc335cb5-5b4c-47be-890f-1577330d90f9"
      },
      "outputs": [
        {
          "data": {
            "text/plain": [
              "2.5758293035489004"
            ]
          },
          "execution_count": 11,
          "metadata": {},
          "output_type": "execute_result"
        }
      ],
      "source": [
        "stats.norm.ppf(0.995)"
      ]
    },
    {
      "cell_type": "code",
      "execution_count": null,
      "metadata": {
        "ExecuteTime": {
          "end_time": "2022-12-09T05:08:37.905634Z",
          "start_time": "2022-12-09T05:08:37.887066Z"
        },
        "id": "zmvorVUm6_3l",
        "outputId": "e3dd4611-ea3f-4ec9-f58c-323f83fecca1"
      },
      "outputs": [
        {
          "data": {
            "text/plain": [
              "1.6448536269514722"
            ]
          },
          "execution_count": 12,
          "metadata": {},
          "output_type": "execute_result"
        }
      ],
      "source": [
        "stats.norm.ppf(0.95)"
      ]
    },
    {
      "cell_type": "code",
      "execution_count": null,
      "metadata": {
        "ExecuteTime": {
          "end_time": "2022-12-09T05:10:21.672160Z",
          "start_time": "2022-12-09T05:10:21.651543Z"
        },
        "id": "IRtwXdcJ6_3l",
        "outputId": "0df0b791-345a-404d-8002-49036bfbe914"
      },
      "outputs": [
        {
          "data": {
            "text/plain": [
              "1.2815515655446004"
            ]
          },
          "execution_count": 13,
          "metadata": {},
          "output_type": "execute_result"
        }
      ],
      "source": [
        "stats.norm.ppf(0.90)"
      ]
    },
    {
      "cell_type": "code",
      "execution_count": null,
      "metadata": {
        "ExecuteTime": {
          "end_time": "2022-12-09T05:24:36.038350Z",
          "start_time": "2022-12-09T05:24:36.022802Z"
        },
        "id": "tUyknx9J6_3m",
        "outputId": "de243d18-2cdd-438a-9825-804844f39d82"
      },
      "outputs": [
        {
          "data": {
            "text/plain": [
              "1.977177724476122"
            ]
          },
          "execution_count": 14,
          "metadata": {},
          "output_type": "execute_result"
        }
      ],
      "source": [
        "stats.t.ppf(0.975,139)"
      ]
    },
    {
      "cell_type": "code",
      "execution_count": null,
      "metadata": {
        "ExecuteTime": {
          "end_time": "2022-12-09T05:28:09.518512Z",
          "start_time": "2022-12-09T05:28:09.495643Z"
        },
        "id": "TNw_1N3C6_3m",
        "outputId": "d81acce8-f25a-42a1-dc3f-9ddfd1dde318"
      },
      "outputs": [
        {
          "data": {
            "text/plain": [
              "(-0.025818392673533995, 0.026590474838718584)"
            ]
          },
          "execution_count": 15,
          "metadata": {},
          "output_type": "execute_result"
        }
      ],
      "source": [
        "stats.t.interval(0.95,1737 ,glaxo_df.gain.mean() , glaxo_df.gain.std())"
      ]
    },
    {
      "cell_type": "code",
      "execution_count": null,
      "metadata": {
        "ExecuteTime": {
          "end_time": "2022-11-04T07:32:23.080322Z",
          "start_time": "2022-11-04T07:32:23.073900Z"
        },
        "id": "ZtEEQxVv6_3m",
        "outputId": "167374a2-1dda-412d-b09f-934047e8669b"
      },
      "outputs": [
        {
          "data": {
            "text/plain": [
              "(-0.05156885177136771, 0.052110347929482194)"
            ]
          },
          "execution_count": 11,
          "metadata": {},
          "output_type": "execute_result"
        }
      ],
      "source": [
        "stats.t.interval(0.95,1737 ,beml_df.gain.mean() , beml_df.gain.std())"
      ]
    }
  ],
  "metadata": {
    "kernelspec": {
      "display_name": "Python 3 (ipykernel)",
      "language": "python",
      "name": "python3"
    },
    "language_info": {
      "codemirror_mode": {
        "name": "ipython",
        "version": 3
      },
      "file_extension": ".py",
      "mimetype": "text/x-python",
      "name": "python",
      "nbconvert_exporter": "python",
      "pygments_lexer": "ipython3",
      "version": "3.9.7"
    },
    "colab": {
      "provenance": [],
      "include_colab_link": true
    }
  },
  "nbformat": 4,
  "nbformat_minor": 0
}